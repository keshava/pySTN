{
 "worksheets": [
  {
   "cells": [
    {
     "cell_type": "heading",
     "metadata": {},
     "level": 1,
     "source": [
      "Robust Scheduling with Python"
     ]
    },
    {
     "cell_type": "markdown",
     "metadata": {},
     "source": [
      "``Citation:``"
     ]
    },
    {
     "cell_type": "heading",
     "metadata": {},
     "level": 2,
     "source": [
      "Nominal Model"
     ]
    },
    {
     "cell_type": "markdown",
     "metadata": {},
     "source": [
      "Necessary imports:"
     ]
    },
    {
     "cell_type": "code",
     "execution_count": null,
     "metadata": {},
     "outputs": [],
     "input": [
      "%matplotlib inline\n",
      "from robust_STN import *"
     ],
     "language": "python",
     "prompt_number": 1
    },
    {
     "cell_type": "markdown",
     "metadata": {},
     "source": [
      "We instantiate the nominal model and solve it using the default solver (Gurobi). \n",
      "The data of the nominal model can be changed from within `STN.__init__()`."
     ]
    },
    {
     "cell_type": "code",
     "execution_count": null,
     "metadata": {},
     "outputs": [
      {
       "output_type": "stream",
       "stream": "stdout",
       "text": [
        "Constructing nominal model...\n",
        "Solving..."
       ]
      },
      {
       "output_type": "stream",
       "stream": "stdout",
       "text": [
        "\n",
        "Parameter"
       ]
      },
      {
       "output_type": "stream",
       "stream": "stdout",
       "text": [
        " OutputFlag unchanged\n",
        "   Value: 1   Min: 0   Max: 1   Default: 1\n",
        "Changed value of parameter QCPDual to 1\n",
        "   Prev: 0   Min: 0   Max: 1   Default: 0\n",
        "Optimize a model with 1060 rows, 449 columns and 5806 nonzeros\n"
       ]
      },
      {
       "output_type": "stream",
       "stream": "stdout",
       "text": [
        "Coefficient statistics:\n"
       ]
      },
      {
       "output_type": "stream",
       "stream": "stdout",
       "text": [
        "  Matrix range    [1e-01, 2e+02]\n"
       ]
      },
      {
       "output_type": "stream",
       "stream": "stdout",
       "text": [
        "  Objective range [2e-01, 1e+01]\n"
       ]
      },
      {
       "output_type": "stream",
       "stream": "stdout",
       "text": [
        "  Bounds range    [1e+00, 1e+00]\n"
       ]
      },
      {
       "output_type": "stream",
       "stream": "stdout",
       "text": [
        "  RHS range       [1e+00, 1e+100]\n"
       ]
      },
      {
       "output_type": "stream",
       "stream": "stdout",
       "text": [
        "Found heuristic solution: objective 0\n"
       ]
      },
      {
       "output_type": "stream",
       "stream": "stdout",
       "text": [
        "Presolve removed 957 rows and 358 columns\n"
       ]
      },
      {
       "output_type": "stream",
       "stream": "stdout",
       "text": [
        "Presolve time: 0.01s\n"
       ]
      },
      {
       "output_type": "stream",
       "stream": "stdout",
       "text": [
        "Presolved: 103 rows, 91 columns, 775 nonzeros\n"
       ]
      },
      {
       "output_type": "stream",
       "stream": "stdout",
       "text": [
        "Variable types: 51 continuous, 40 integer (40 binary)\n"
       ]
      },
      {
       "output_type": "stream",
       "stream": "stdout",
       "text": [
        "\n",
        "Root relaxation: objective -2.908360e+03, 93 iterations, 0.00 seconds\n"
       ]
      },
      {
       "output_type": "stream",
       "stream": "stdout",
       "text": [
        "\n"
       ]
      },
      {
       "output_type": "stream",
       "stream": "stdout",
       "text": [
        "    Nodes    |    Current Node    |     Objective Bounds      |     Work\n"
       ]
      },
      {
       "output_type": "stream",
       "stream": "stdout",
       "text": [
        " Expl Unexpl |  Obj  Depth IntInf | Incumbent    BestBd   Gap | It/Node Time\n"
       ]
      },
      {
       "output_type": "stream",
       "stream": "stdout",
       "text": [
        "\n"
       ]
      },
      {
       "output_type": "stream",
       "stream": "stdout",
       "text": [
        "     0     0 -2908.3600    0   10    0.00000 -2908.3600      -     -    0s\n"
       ]
      },
      {
       "output_type": "stream",
       "stream": "stdout",
       "text": [
        "H    0     0                    -2572.000000 -2908.3600  13.1%     -    0s\n"
       ]
      },
      {
       "output_type": "stream",
       "stream": "stdout",
       "text": [
        "     0     0 -2889.9539    0    9 -2572.0000 -2889.9539  12.4%     -    0s\n"
       ]
      },
      {
       "output_type": "stream",
       "stream": "stdout",
       "text": [
        "     0     0 -2874.5826    0   14 -2572.0000 -2874.5826  11.8%     -    0s\n"
       ]
      },
      {
       "output_type": "stream",
       "stream": "stdout",
       "text": [
        "H    0     0                    -2708.000000 -2874.5826  6.15%     -    0s\n"
       ]
      },
      {
       "output_type": "stream",
       "stream": "stdout",
       "text": [
        "     0     0 -2871.3632    0   16 -2708.0000 -2871.3632  6.03%     -    0s\n"
       ]
      },
      {
       "output_type": "stream",
       "stream": "stdout",
       "text": [
        "     0     0 -2870.2826    0   16 -2708.0000 -2870.2826  5.99%     -    0s\n"
       ]
      },
      {
       "output_type": "stream",
       "stream": "stdout",
       "text": [
        "     0     0 -2870.2086    0   17 -2708.0000 -2870.2086  5.99%     -    0s\n"
       ]
      },
      {
       "output_type": "stream",
       "stream": "stdout",
       "text": [
        "     0     0 -2870.2086    0   17 -2708.0000 -2870.2086  5.99%     -    0s\n"
       ]
      },
      {
       "output_type": "stream",
       "stream": "stdout",
       "text": [
        "     0     2 -2870.2086    0   17 -2708.0000 -2870.2086  5.99%     -    0s\n"
       ]
      },
      {
       "output_type": "stream",
       "stream": "stdout",
       "text": [
        "*   18     0               6    -2744.375000 -2866.1550  4.44%   5.8    0s\n"
       ]
      },
      {
       "output_type": "stream",
       "stream": "stdout",
       "text": [
        "\n"
       ]
      },
      {
       "output_type": "stream",
       "stream": "stdout",
       "text": [
        "Cutting planes:\n"
       ]
      },
      {
       "output_type": "stream",
       "stream": "stdout",
       "text": [
        "  Gomory: 3\n"
       ]
      },
      {
       "output_type": "stream",
       "stream": "stdout",
       "text": [
        "  MIR: 2\n"
       ]
      },
      {
       "output_type": "stream",
       "stream": "stdout",
       "text": [
        "  Flow cover: 1\n"
       ]
      },
      {
       "output_type": "stream",
       "stream": "stdout",
       "text": [
        "\n",
        "Explored 33 nodes (321 simplex iterations) in 0.08 seconds\n"
       ]
      },
      {
       "output_type": "stream",
       "stream": "stdout",
       "text": [
        "Thread count was 2 (of 4 available processors)\n"
       ]
      },
      {
       "output_type": "stream",
       "stream": "stdout",
       "text": [
        "\n"
       ]
      },
      {
       "output_type": "stream",
       "stream": "stdout",
       "text": [
        "Optimal solution found (tolerance 1.00e-04)\n"
       ]
      },
      {
       "output_type": "stream",
       "stream": "stdout",
       "text": [
        "Best objective -2.744375000000e+03, best bound -2.744375000000e+03, gap 0.0%\n"
       ]
      },
      {
       "output_type": "pyout",
       "prompt_number": 2,
       "text": [
        "-2744.3750000000055"
       ],
       "metadata": {}
      }
     ],
     "input": [
      "stn = STN()\n",
      "stn.solve()"
     ],
     "language": "python",
     "prompt_number": 2
    },
    {
     "cell_type": "markdown",
     "metadata": {},
     "source": [
      "Plot the nominal schedule:"
     ]
    },
    {
     "cell_type": "code",
     "execution_count": null,
     "metadata": {},
     "outputs": [
      {
       "output_type": "display_data",
       "png": "[encoded data removed]",
       "text": [
        "<matplotlib.figure.Figure at 0xd3cec10>"
       ],
       "metadata": {}
      }
     ],
     "input": [
      "stn.plot_schedule()"
     ],
     "language": "python",
     "prompt_number": 3
    },
    {
     "cell_type": "markdown",
     "metadata": {},
     "source": [
      "Attained objective:"
     ]
    },
    {
     "cell_type": "code",
     "execution_count": null,
     "metadata": {},
     "outputs": [
      {
       "output_type": "pyout",
       "prompt_number": 4,
       "text": [
        "-2744.3750000000055"
       ],
       "metadata": {}
      }
     ],
     "input": [
      "stn.model.value"
     ],
     "language": "python",
     "prompt_number": 4
    },
    {
     "cell_type": "heading",
     "metadata": {},
     "level": 2,
     "source": [
      "Robust Model"
     ]
    },
    {
     "cell_type": "markdown",
     "metadata": {},
     "source": [
      "A robust STN is instantiated with a reference to a particular nominal STN (e.g., the one created in the previous section)."
     ]
    },
    {
     "cell_type": "code",
     "execution_count": null,
     "metadata": {},
     "outputs": [],
     "input": [
      "rSTN = robust_STN(stn)"
     ],
     "language": "python",
     "prompt_number": 5
    },
    {
     "cell_type": "markdown",
     "metadata": {},
     "source": [
      "The module robust_STN.py provides two functions to generate appropriate uncertainty sets:\n",
      "* `robust_STN.build_uncertainty_set_for_time_delay(units=(0,), tasks=(0,), delay=1, from_t=0, to_t=T)`\n",
      "* `robust_STN.build_uncertainty_set_for_unit_swap(from_unit=2, to_unit=1, tasks=(1,), from_t=0, to_t=T)`\n",
      "\n",
      "Below some examples of how they can be used. These are sufficient to reproduce the results in [1]."
     ]
    },
    {
     "cell_type": "heading",
     "metadata": {},
     "level": 3,
     "source": [
      "Delay Example #1: Heater Delay"
     ]
    },
    {
     "cell_type": "markdown",
     "metadata": {},
     "source": [
      "We first produce a robust schedule that is immune to possible time delays of the heater (unit=0), when performing heating (task=0), of at most 1 time step (delay=1), which can happen anytime in the scheduling horizon (from_t and to_t assigned default values)"
     ]
    },
    {
     "cell_type": "code",
     "execution_count": null,
     "metadata": {},
     "outputs": [
      {
       "output_type": "stream",
       "stream": "stdout",
       "text": [
        "Constructing robust model...\n",
        "Solving..."
       ]
      },
      {
       "output_type": "stream",
       "stream": "stdout",
       "text": [
        "\n",
        "Parameter"
       ]
      },
      {
       "output_type": "stream",
       "stream": "stdout",
       "text": [
        " OutputFlag unchanged\n",
        "   Value: 1   Min: 0   Max: 1   Default: 1\n",
        "Changed value of parameter QCPDual to 1\n",
        "   Prev: 0   Min: 0   Max: 1   Default: 0\n",
        "Optimize a model with 84422 rows, 69909 columns and 209228 nonzeros\n"
       ]
      },
      {
       "output_type": "stream",
       "stream": "stdout",
       "text": [
        "Coefficient statistics:\n"
       ]
      },
      {
       "output_type": "stream",
       "stream": "stdout",
       "text": [
        "  Matrix range    [1e-01, 1e+05]\n"
       ]
      },
      {
       "output_type": "stream",
       "stream": "stdout",
       "text": [
        "  Objective range [2e-01, 1e+01]\n"
       ]
      },
      {
       "output_type": "stream",
       "stream": "stdout",
       "text": [
        "  Bounds range    [1e+00, 1e+00]\n"
       ]
      },
      {
       "output_type": "stream",
       "stream": "stdout",
       "text": [
        "  RHS range       [1e+00, 1e+100]\n"
       ]
      },
      {
       "output_type": "stream",
       "stream": "stdout",
       "text": [
        "Found heuristic solution: objective 0\n"
       ]
      },
      {
       "output_type": "stream",
       "stream": "stdout",
       "text": [
        "Presolve removed 75604 rows and 64943 columns\n"
       ]
      },
      {
       "output_type": "stream",
       "stream": "stdout",
       "text": [
        "Presolve time: 0.46s\n"
       ]
      },
      {
       "output_type": "stream",
       "stream": "stdout",
       "text": [
        "Presolved: 8818 rows, 4966 columns, 47405 nonzeros\n"
       ]
      },
      {
       "output_type": "stream",
       "stream": "stdout",
       "text": [
        "Variable types: 4895 continuous, 71 integer (71 binary)\n"
       ]
      },
      {
       "output_type": "stream",
       "stream": "stdout",
       "text": [
        "\n"
       ]
      },
      {
       "output_type": "stream",
       "stream": "stdout",
       "text": [
        "    Nodes    |    Current Node    |     Objective Bounds      |     Work\n"
       ]
      },
      {
       "output_type": "stream",
       "stream": "stdout",
       "text": [
        " Expl Unexpl |  Obj  Depth IntInf | Incumbent    BestBd   Gap | It/Node Time\n"
       ]
      },
      {
       "output_type": "stream",
       "stream": "stdout",
       "text": [
        "\n"
       ]
      },
      {
       "output_type": "stream",
       "stream": "stdout",
       "text": [
        "     0     0 -3193.9262    0   18    0.00000 -3193.9262      -     -    0s\n"
       ]
      },
      {
       "output_type": "stream",
       "stream": "stdout",
       "text": [
        "H    0     0                    -1965.750000 -3193.9262  62.5%     -    0s\n"
       ]
      },
      {
       "output_type": "stream",
       "stream": "stdout",
       "text": [
        "     0     0 -3083.0600    0   25 -1965.7500 -3083.0600  56.8%     -    1s\n"
       ]
      },
      {
       "output_type": "stream",
       "stream": "stdout",
       "text": [
        "     0     0 -2908.3600    0   18 -1965.7500 -2908.3600  48.0%     -    1s\n"
       ]
      },
      {
       "output_type": "stream",
       "stream": "stdout",
       "text": [
        "     0     0 -2902.1364    0   17 -1965.7500 -2902.1364  47.6%     -    1s\n"
       ]
      },
      {
       "output_type": "stream",
       "stream": "stdout",
       "text": [
        "H    0     0                    -2572.000000 -2902.1364  12.8%     -    1s\n"
       ]
      },
      {
       "output_type": "stream",
       "stream": "stdout",
       "text": [
        "     0     0 -2901.3522    0   26 -2572.0000 -2901.3522  12.8%     -    1s\n"
       ]
      },
      {
       "output_type": "stream",
       "stream": "stdout",
       "text": [
        "H    0     0                    -2708.000000 -2901.3522  7.14%     -    1s\n"
       ]
      },
      {
       "output_type": "stream",
       "stream": "stdout",
       "text": [
        "     0     0 -2899.0293    0   24 -2708.0000 -2899.0293  7.05%     -    1s\n"
       ]
      },
      {
       "output_type": "stream",
       "stream": "stdout",
       "text": [
        "     0     0 -2898.6051    0   27 -2708.0000 -2898.6051  7.04%     -    1s\n"
       ]
      },
      {
       "output_type": "stream",
       "stream": "stdout",
       "text": [
        "     0     0 -2898.5181    0   31 -2708.0000 -2898.5181  7.04%     -    1s\n"
       ]
      },
      {
       "output_type": "stream",
       "stream": "stdout",
       "text": [
        "     0     0 -2898.1193    0   24 -2708.0000 -2898.1193  7.02%     -    1s\n"
       ]
      },
      {
       "output_type": "stream",
       "stream": "stdout",
       "text": [
        "     0     0 -2897.5287    0   30 -2708.0000 -2897.5287  7.00%     -    1s\n"
       ]
      },
      {
       "output_type": "stream",
       "stream": "stdout",
       "text": [
        "     0     0 -2897.5234    0   32 -2708.0000 -2897.5234  7.00%     -    1s\n"
       ]
      },
      {
       "output_type": "stream",
       "stream": "stdout",
       "text": [
        "     0     0 -2897.3359    0   28 -2708.0000 -2897.3359  6.99%     -    1s\n"
       ]
      },
      {
       "output_type": "stream",
       "stream": "stdout",
       "text": [
        "     0     0 -2897.1707    0   29 -2708.0000 -2897.1707  6.99%     -    1s\n"
       ]
      },
      {
       "output_type": "stream",
       "stream": "stdout",
       "text": [
        "     0     0 -2896.8947    0   23 -2708.0000 -2896.8947  6.98%     -    2s\n"
       ]
      },
      {
       "output_type": "stream",
       "stream": "stdout",
       "text": [
        "     0     0 -2896.8947    0   25 -2708.0000 -2896.8947  6.98%     -    2s\n"
       ]
      },
      {
       "output_type": "stream",
       "stream": "stdout",
       "text": [
        "     0     0 -2896.8748    0   27 -2708.0000 -2896.8748  6.97%     -    2s\n"
       ]
      },
      {
       "output_type": "stream",
       "stream": "stdout",
       "text": [
        "     0     0 -2896.8540    0   29 -2708.0000 -2896.8540  6.97%     -    2s\n"
       ]
      },
      {
       "output_type": "stream",
       "stream": "stdout",
       "text": [
        "     0     0 -2896.8307    0   25 -2708.0000 -2896.8307  6.97%     -    2s\n"
       ]
      },
      {
       "output_type": "stream",
       "stream": "stdout",
       "text": [
        "     0     0 -2896.8307    0   24 -2708.0000 -2896.8307  6.97%     -    2s\n"
       ]
      },
      {
       "output_type": "stream",
       "stream": "stdout",
       "text": [
        "     0     2 -2896.8307    0   22 -2708.0000 -2896.8307  6.97%     -    2s\n"
       ]
      },
      {
       "output_type": "stream",
       "stream": "stdout",
       "text": [
        "*   45     7              15    -2744.375000 -2847.8872  3.77%  30.0    3s\n"
       ]
      },
      {
       "output_type": "stream",
       "stream": "stdout",
       "text": [
        "\n"
       ]
      },
      {
       "output_type": "stream",
       "stream": "stdout",
       "text": [
        "Cutting planes:\n"
       ]
      },
      {
       "output_type": "stream",
       "stream": "stdout",
       "text": [
        "  Gomory: 3\n"
       ]
      },
      {
       "output_type": "stream",
       "stream": "stdout",
       "text": [
        "  Implied bound: 34\n"
       ]
      },
      {
       "output_type": "stream",
       "stream": "stdout",
       "text": [
        "  Clique: 3\n"
       ]
      },
      {
       "output_type": "stream",
       "stream": "stdout",
       "text": [
        "  MIR: 21\n"
       ]
      },
      {
       "output_type": "stream",
       "stream": "stdout",
       "text": [
        "  Flow cover: 33\n"
       ]
      },
      {
       "output_type": "stream",
       "stream": "stdout",
       "text": [
        "  Zero half: 2\n"
       ]
      },
      {
       "output_type": "stream",
       "stream": "stdout",
       "text": [
        "\n",
        "Explored 59 nodes (14103 simplex iterations) in 3.18 seconds\n"
       ]
      },
      {
       "output_type": "stream",
       "stream": "stdout",
       "text": [
        "Thread count was 2 (of 4 available processors)\n"
       ]
      },
      {
       "output_type": "stream",
       "stream": "stdout",
       "text": [
        "\n"
       ]
      },
      {
       "output_type": "stream",
       "stream": "stdout",
       "text": [
        "Optimal solution found (tolerance 1.00e-04)\n"
       ]
      },
      {
       "output_type": "stream",
       "stream": "stdout",
       "text": [
        "Best objective -2.744375000000e+03, best bound -2.744375000000e+03, gap 0.0%\n"
       ]
      }
     ],
     "input": [
      "rSTN.W = rSTN.build_uncertainty_set_for_time_delay(units=(0,), tasks=(0,), delay=1)\n",
      "rSTN.solve()"
     ],
     "language": "python",
     "prompt_number": 6
    },
    {
     "cell_type": "markdown",
     "metadata": {},
     "source": [
      "Plot the robust schedule"
     ]
    },
    {
     "cell_type": "code",
     "execution_count": null,
     "metadata": {},
     "outputs": [
      {
       "output_type": "display_data",
       "png": "[encoded data removed]",
       "text": [
        "<matplotlib.figure.Figure at 0x3991d50>"
       ],
       "metadata": {}
      }
     ],
     "input": [
      "rSTN.plot_schedule()"
     ],
     "language": "python",
     "prompt_number": 7
    },
    {
     "cell_type": "markdown",
     "metadata": {},
     "source": [
      "We can then simulate an uncertain event, and see how the schedule has to be adapted to accommodate it.\n",
      "* The important feature to observe is that events are accommodated without disrupting the core of the schedule (assignments), but just by regulating processed quantities. \n",
      "* Note also that no more heavy computations are required to calculate the adapted schedule."
     ]
    },
    {
     "cell_type": "code",
     "execution_count": null,
     "metadata": {},
     "outputs": [
      {
       "output_type": "display_data",
       "png": "[encoded data removed]",
       "text": [
        "<matplotlib.figure.Figure at 0x1ee83f30>"
       ],
       "metadata": {}
      },
      {
       "output_type": "display_data",
       "png": "[encoded data removed]",
       "text": [
        "<matplotlib.figure.Figure at 0x201c0ed0>"
       ],
       "metadata": {}
      }
     ],
     "input": [
      "rSTN.simulate_uncertain_event(event=1, column=1)\n",
      "rSTN.simulate_uncertain_event(event=6, column=1)"
     ],
     "language": "python",
     "prompt_number": 8
    },
    {
     "cell_type": "markdown",
     "metadata": {},
     "source": [
      "Events in this case are counted in time, starting from `from_t`. So a delay at the first time step is `event=1`, a delay at the sixth time step is `event=6`. The `column` parameter is used to simulate appropriate delays, when they can be longer than 1 time step (`column=2` would simulate a delay by two time steps). Check the implementation of `robust_STN.simulate_uncertain_event()` for more details on how the parameters are to be understood."
     ]
    },
    {
     "cell_type": "heading",
     "metadata": {},
     "level": 3,
     "source": [
      "Delay Example #2: Reactor 2, delay when processing Reaction 1 or Reaction 3"
     ]
    },
    {
     "cell_type": "code",
     "execution_count": null,
     "metadata": {},
     "outputs": [
      {
       "output_type": "stream",
       "stream": "stdout",
       "text": [
        "Constructing robust model...\n",
        "Solving..."
       ]
      },
      {
       "output_type": "stream",
       "stream": "stdout",
       "text": [
        "\n",
        "Parameter"
       ]
      },
      {
       "output_type": "stream",
       "stream": "stdout",
       "text": [
        " OutputFlag unchanged\n",
        "   Value: 1   Min: 0   Max: 1   Default: 1\n",
        "Changed value of parameter QCPDual to 1\n",
        "   Prev: 0   Min: 0   Max: 1   Default: 0\n",
        "Optimize a model with 145784 rows, 88989 columns and 390650 nonzeros\n"
       ]
      },
      {
       "output_type": "stream",
       "stream": "stdout",
       "text": [
        "Coefficient statistics:\n"
       ]
      },
      {
       "output_type": "stream",
       "stream": "stdout",
       "text": [
        "  Matrix range    [1e-01, 1e+05]\n"
       ]
      },
      {
       "output_type": "stream",
       "stream": "stdout",
       "text": [
        "  Objective range [2e-01, 1e+01]\n"
       ]
      },
      {
       "output_type": "stream",
       "stream": "stdout",
       "text": [
        "  Bounds range    [1e+00, 1e+00]\n"
       ]
      },
      {
       "output_type": "stream",
       "stream": "stdout",
       "text": [
        "  RHS range       [1e+00, 1e+100]\n"
       ]
      },
      {
       "output_type": "stream",
       "stream": "stdout",
       "text": [
        "Found heuristic solution: objective 0\n"
       ]
      },
      {
       "output_type": "stream",
       "stream": "stdout",
       "text": [
        "Presolve removed 128952 rows and 79523 columns\n"
       ]
      },
      {
       "output_type": "stream",
       "stream": "stdout",
       "text": [
        "Presolve time: 1.14s\n"
       ]
      },
      {
       "output_type": "stream",
       "stream": "stdout",
       "text": [
        "Presolved: 16832 rows, 9466 columns, 92061 nonzeros\n"
       ]
      },
      {
       "output_type": "stream",
       "stream": "stdout",
       "text": [
        "Variable types: 9405 continuous, 61 integer (61 binary)\n"
       ]
      },
      {
       "output_type": "stream",
       "stream": "stdout",
       "text": [
        "\n"
       ]
      },
      {
       "output_type": "stream",
       "stream": "stdout",
       "text": [
        "    Nodes    |    Current Node    |     Objective Bounds      |     Work\n"
       ]
      },
      {
       "output_type": "stream",
       "stream": "stdout",
       "text": [
        " Expl Unexpl |  Obj  Depth IntInf | Incumbent    BestBd   Gap | It/Node Time\n"
       ]
      },
      {
       "output_type": "stream",
       "stream": "stdout",
       "text": [
        "\n"
       ]
      },
      {
       "output_type": "stream",
       "stream": "stdout",
       "text": [
        "     0     0 -2969.1200    0    9    0.00000 -2969.1200      -     -    1s\n"
       ]
      },
      {
       "output_type": "stream",
       "stream": "stdout",
       "text": [
        "H    0     0                    -2385.666667 -2969.1200  24.5%     -    1s\n"
       ]
      },
      {
       "output_type": "stream",
       "stream": "stdout",
       "text": [
        "     0     0 -2694.3418    0   11 -2385.6667 -2694.3418  12.9%     -    1s\n"
       ]
      },
      {
       "output_type": "stream",
       "stream": "stdout",
       "text": [
        "     0     0 -2688.0633    0    9 -2385.6667 -2688.0633  12.7%     -    1s\n"
       ]
      },
      {
       "output_type": "stream",
       "stream": "stdout",
       "text": [
        "     0     0 -2688.0633    0   11 -2385.6667 -2688.0633  12.7%     -    1s\n"
       ]
      },
      {
       "output_type": "stream",
       "stream": "stdout",
       "text": [
        "     0     0 -2687.9192    0   15 -2385.6667 -2687.9192  12.7%     -    2s\n"
       ]
      },
      {
       "output_type": "stream",
       "stream": "stdout",
       "text": [
        "     0     0 -2687.5540    0    9 -2385.6667 -2687.5540  12.7%     -    2s\n"
       ]
      },
      {
       "output_type": "stream",
       "stream": "stdout",
       "text": [
        "     0     0 -2686.2644    0   11 -2385.6667 -2686.2644  12.6%     -    2s\n"
       ]
      },
      {
       "output_type": "stream",
       "stream": "stdout",
       "text": [
        "     0     0 -2684.7485    0   18 -2385.6667 -2684.7485  12.5%     -    2s\n"
       ]
      },
      {
       "output_type": "stream",
       "stream": "stdout",
       "text": [
        "     0     0 -2684.6243    0   19 -2385.6667 -2684.6243  12.5%     -    2s\n"
       ]
      },
      {
       "output_type": "stream",
       "stream": "stdout",
       "text": [
        "     0     0 -2684.4342    0   19 -2385.6667 -2684.4342  12.5%     -    2s\n"
       ]
      },
      {
       "output_type": "stream",
       "stream": "stdout",
       "text": [
        "     0     0 -2682.8788    0   10 -2385.6667 -2682.8788  12.5%     -    2s\n"
       ]
      },
      {
       "output_type": "stream",
       "stream": "stdout",
       "text": [
        "     0     0 -2682.8788    0    9 -2385.6667 -2682.8788  12.5%     -    2s\n"
       ]
      },
      {
       "output_type": "stream",
       "stream": "stdout",
       "text": [
        "     0     2 -2682.8788    0    9 -2385.6667 -2682.8788  12.5%     -    2s\n"
       ]
      },
      {
       "output_type": "stream",
       "stream": "stdout",
       "text": [
        "*   24     7              16    -2412.000000 -2565.1111  6.35%  82.2    3s\n"
       ]
      },
      {
       "output_type": "stream",
       "stream": "stdout",
       "text": [
        "*   49     2               8    -2547.750000 -2553.1111  0.21%  67.2    3s\n"
       ]
      },
      {
       "output_type": "stream",
       "stream": "stdout",
       "text": [
        "\n"
       ]
      },
      {
       "output_type": "stream",
       "stream": "stdout",
       "text": [
        "Cutting planes:\n"
       ]
      },
      {
       "output_type": "stream",
       "stream": "stdout",
       "text": [
        "  Gomory: 1\n"
       ]
      },
      {
       "output_type": "stream",
       "stream": "stdout",
       "text": [
        "  Implied bound: 15\n"
       ]
      },
      {
       "output_type": "stream",
       "stream": "stdout",
       "text": [
        "  MIR: 19\n"
       ]
      },
      {
       "output_type": "stream",
       "stream": "stdout",
       "text": [
        "  Flow cover: 11\n"
       ]
      },
      {
       "output_type": "stream",
       "stream": "stdout",
       "text": [
        "  Zero half: 2\n"
       ]
      },
      {
       "output_type": "stream",
       "stream": "stdout",
       "text": [
        "\n",
        "Explored 62 nodes (5914 simplex iterations) in 3.41 seconds\n"
       ]
      },
      {
       "output_type": "stream",
       "stream": "stdout",
       "text": [
        "Thread count was 2 (of 4 available processors)\n"
       ]
      },
      {
       "output_type": "stream",
       "stream": "stdout",
       "text": [
        "\n"
       ]
      },
      {
       "output_type": "stream",
       "stream": "stdout",
       "text": [
        "Optimal solution found (tolerance 1.00e-04)\n"
       ]
      },
      {
       "output_type": "stream",
       "stream": "stdout",
       "text": [
        "Best objective -2.547750000000e+03, best bound -2.547750000000e+03, gap 0.0%\n"
       ]
      }
     ],
     "input": [
      "rSTN.W = rSTN.build_uncertainty_set_for_time_delay(units=(2,), tasks=(1,3), delay=1)\n",
      "rSTN.solve()"
     ],
     "language": "python",
     "prompt_number": 9
    },
    {
     "cell_type": "code",
     "execution_count": null,
     "metadata": {},
     "outputs": [
      {
       "output_type": "display_data",
       "png": "[encoded data removed]",
       "text": [
        "<matplotlib.figure.Figure at 0x15c068f0>"
       ],
       "metadata": {}
      },
      {
       "output_type": "display_data",
       "png": "[encoded data removed]",
       "text": [
        "<matplotlib.figure.Figure at 0x15c06ad0>"
       ],
       "metadata": {}
      },
      {
       "output_type": "display_data",
       "png": "[encoded data removed]",
       "text": [
        "<matplotlib.figure.Figure at 0x1388cef0>"
       ],
       "metadata": {}
      }
     ],
     "input": [
      "rSTN.plot_schedule()\n",
      "rSTN.simulate_uncertain_event(event=1, column=1)\n",
      "rSTN.simulate_uncertain_event(event=6, column=1)"
     ],
     "language": "python",
     "prompt_number": 10
    },
    {
     "cell_type": "markdown",
     "metadata": {},
     "source": [
      "We see that the optimizer does not schedule any reaction 3 on reactor 2. In the above plots we can also inspect how the schedule has to be adjusted when the delay does occur."
     ]
    },
    {
     "cell_type": "heading",
     "metadata": {},
     "level": 3,
     "source": [
      "Unit Swap Example: swap processing of Reaction 2, from Reactor 1 to Reactor 2, starting from t = 4h"
     ]
    },
    {
     "cell_type": "code",
     "execution_count": null,
     "metadata": {},
     "outputs": [
      {
       "output_type": "stream",
       "stream": "stdout",
       "text": [
        "Constructing robust model...\n",
        "Solving..."
       ]
      },
      {
       "output_type": "stream",
       "stream": "stdout",
       "text": [
        "\n",
        "Parameter"
       ]
      },
      {
       "output_type": "stream",
       "stream": "stdout",
       "text": [
        " OutputFlag unchanged\n",
        "   Value: 1   Min: 0   Max: 1   Default: 1\n",
        "Changed value of parameter QCPDual to 1\n",
        "   Prev: 0   Min: 0   Max: 1   Default: 0\n",
        "Optimize a model with 63968 rows, 63549 columns and 148754 nonzeros\n"
       ]
      },
      {
       "output_type": "stream",
       "stream": "stdout",
       "text": [
        "Coefficient statistics:\n"
       ]
      },
      {
       "output_type": "stream",
       "stream": "stdout",
       "text": [
        "  Matrix range    [1e-01, 1e+05]\n"
       ]
      },
      {
       "output_type": "stream",
       "stream": "stdout",
       "text": [
        "  Objective range [2e-01, 1e+01]\n"
       ]
      },
      {
       "output_type": "stream",
       "stream": "stdout",
       "text": [
        "  Bounds range    [1e+00, 1e+00]\n"
       ]
      },
      {
       "output_type": "stream",
       "stream": "stdout",
       "text": [
        "  RHS range       [1e+00, 1e+100]\n"
       ]
      },
      {
       "output_type": "stream",
       "stream": "stdout",
       "text": [
        "Found heuristic solution: objective 0\n"
       ]
      },
      {
       "output_type": "stream",
       "stream": "stdout",
       "text": [
        "Presolve removed 62018 rows and 62512 columns\n"
       ]
      },
      {
       "output_type": "stream",
       "stream": "stdout",
       "text": [
        "Presolve time: 0.21s\n"
       ]
      },
      {
       "output_type": "stream",
       "stream": "stdout",
       "text": [
        "Presolved: 1950 rows, 1037 columns, 9027 nonzeros\n"
       ]
      },
      {
       "output_type": "stream",
       "stream": "stdout",
       "text": [
        "Variable types: 988 continuous, 49 integer (49 binary)\n"
       ]
      },
      {
       "output_type": "stream",
       "stream": "stdout",
       "text": [
        "\n",
        "Root relaxation: objective -3.142348e+03, 468 iterations, 0.01 seconds\n"
       ]
      },
      {
       "output_type": "stream",
       "stream": "stdout",
       "text": [
        "\n"
       ]
      },
      {
       "output_type": "stream",
       "stream": "stdout",
       "text": [
        "    Nodes    |    Current Node    |     Objective Bounds      |     Work\n"
       ]
      },
      {
       "output_type": "stream",
       "stream": "stdout",
       "text": [
        " Expl Unexpl |  Obj  Depth IntInf | Incumbent    BestBd   Gap | It/Node Time\n"
       ]
      },
      {
       "output_type": "stream",
       "stream": "stdout",
       "text": [
        "\n"
       ]
      },
      {
       "output_type": "stream",
       "stream": "stdout",
       "text": [
        "     0     0 -3142.3480    0   18    0.00000 -3142.3480      -     -    0s\n"
       ]
      },
      {
       "output_type": "stream",
       "stream": "stdout",
       "text": [
        "H    0     0                    -2043.000000 -3142.3480  53.8%     -    0s\n"
       ]
      },
      {
       "output_type": "stream",
       "stream": "stdout",
       "text": [
        "H    0     0                    -2193.500000 -3142.3480  43.3%     -    0s\n"
       ]
      },
      {
       "output_type": "stream",
       "stream": "stdout",
       "text": [
        "     0     0 -2952.6741    0   24 -2193.5000 -2952.6741  34.6%     -    0s\n"
       ]
      },
      {
       "output_type": "stream",
       "stream": "stdout",
       "text": [
        "H    0     0                    -2264.416667 -2952.6741  30.4%     -    0s\n"
       ]
      },
      {
       "output_type": "stream",
       "stream": "stdout",
       "text": [
        "     0     0 -2748.2120    0   22 -2264.4167 -2748.2120  21.4%     -    0s\n"
       ]
      },
      {
       "output_type": "stream",
       "stream": "stdout",
       "text": [
        "     0     0 -2638.1570    0   10 -2264.4167 -2638.1570  16.5%     -    0s\n"
       ]
      },
      {
       "output_type": "stream",
       "stream": "stdout",
       "text": [
        "H    0     0                    -2361.416667 -2638.1570  11.7%     -    0s\n"
       ]
      },
      {
       "output_type": "stream",
       "stream": "stdout",
       "text": [
        "     0     0 -2627.1500    0   15 -2361.4167 -2627.1500  11.3%     -    0s\n"
       ]
      },
      {
       "output_type": "stream",
       "stream": "stdout",
       "text": [
        "     0     0 -2598.9685    0   13 -2361.4167 -2598.9685  10.1%     -    0s\n"
       ]
      },
      {
       "output_type": "stream",
       "stream": "stdout",
       "text": [
        "     0     0 -2598.7742    0   14 -2361.4167 -2598.7742  10.1%     -    0s\n"
       ]
      },
      {
       "output_type": "stream",
       "stream": "stdout",
       "text": [
        "     0     0 -2598.2411    0   16 -2361.4167 -2598.2411  10.0%     -    0s\n"
       ]
      },
      {
       "output_type": "stream",
       "stream": "stdout",
       "text": [
        "     0     0 -2598.0755    0   16 -2361.4167 -2598.0755  10.0%     -    0s\n"
       ]
      },
      {
       "output_type": "stream",
       "stream": "stdout",
       "text": [
        "H    0     0                    -2382.635417 -2598.0755  9.04%     -    0s\n"
       ]
      },
      {
       "output_type": "stream",
       "stream": "stdout",
       "text": [
        "     0     2 -2598.0755    0   16 -2382.6354 -2598.0755  9.04%     -    0s\n"
       ]
      },
      {
       "output_type": "stream",
       "stream": "stdout",
       "text": [
        "*   14     0              10    -2513.750000 -2521.5981  0.31%  32.6    0s\n"
       ]
      },
      {
       "output_type": "stream",
       "stream": "stdout",
       "text": [
        "\n"
       ]
      },
      {
       "output_type": "stream",
       "stream": "stdout",
       "text": [
        "Cutting planes:\n"
       ]
      },
      {
       "output_type": "stream",
       "stream": "stdout",
       "text": [
        "  Gomory: 1\n"
       ]
      },
      {
       "output_type": "stream",
       "stream": "stdout",
       "text": [
        "  Cover: 2\n"
       ]
      },
      {
       "output_type": "stream",
       "stream": "stdout",
       "text": [
        "  Implied bound: 40\n"
       ]
      },
      {
       "output_type": "stream",
       "stream": "stdout",
       "text": [
        "  Clique: 4\n"
       ]
      },
      {
       "output_type": "stream",
       "stream": "stdout",
       "text": [
        "  MIR: 9\n"
       ]
      },
      {
       "output_type": "stream",
       "stream": "stdout",
       "text": [
        "  Flow cover: 19\n"
       ]
      },
      {
       "output_type": "stream",
       "stream": "stdout",
       "text": [
        "  GUB cover: 4\n"
       ]
      },
      {
       "output_type": "stream",
       "stream": "stdout",
       "text": [
        "  Zero half: 4\n"
       ]
      },
      {
       "output_type": "stream",
       "stream": "stdout",
       "text": [
        "\n",
        "Explored 29 nodes (1489 simplex iterations) in 0.54 seconds\n"
       ]
      },
      {
       "output_type": "stream",
       "stream": "stdout",
       "text": [
        "Thread count was 2 (of 4 available processors)\n"
       ]
      },
      {
       "output_type": "stream",
       "stream": "stdout",
       "text": [
        "\n"
       ]
      },
      {
       "output_type": "stream",
       "stream": "stdout",
       "text": [
        "Optimal solution found (tolerance 1.00e-04)\n"
       ]
      },
      {
       "output_type": "stream",
       "stream": "stdout",
       "text": [
        "Best objective -2.513750000000e+03, best bound -2.513750000000e+03, gap 0.0%\n"
       ]
      }
     ],
     "input": [
      "rSTN.W = rSTN.build_uncertainty_set_for_unit_swap(from_unit=1, to_unit=2, tasks=(2,), from_t=4)\n",
      "rSTN.solve()"
     ],
     "language": "python",
     "prompt_number": 11
    },
    {
     "cell_type": "markdown",
     "metadata": {},
     "source": [
      "And wen can again check the resulting schedules (remember events are counted from `from_t`):"
     ]
    },
    {
     "cell_type": "code",
     "execution_count": null,
     "metadata": {},
     "outputs": [
      {
       "output_type": "display_data",
       "png": "[encoded data removed]",
       "text": [
        "<matplotlib.figure.Figure at 0x13136e90>"
       ],
       "metadata": {}
      },
      {
       "output_type": "display_data",
       "png": "[encoded data removed]",
       "text": [
        "<matplotlib.figure.Figure at 0x19d511f0>"
       ],
       "metadata": {}
      }
     ],
     "input": [
      "rSTN.plot_schedule()\n",
      "rSTN.simulate_uncertain_event(event=1)"
     ],
     "language": "python",
     "prompt_number": 12
    },
    {
     "cell_type": "markdown",
     "metadata": {},
     "source": [
      "Observe how in the revised schedule, the core is maintained, but the batch sizes in the remainder of the schedule are changed (reduced) due to the unit swap to a unit which is smaller."
     ]
    },
    {
     "cell_type": "heading",
     "metadata": {},
     "level": 3,
     "source": [
      "Notes"
     ]
    },
    {
     "cell_type": "markdown",
     "metadata": {},
     "source": [
      "    1) The code pertaining to the nominal model is within STN.py. It contains the data used in the STN.__init__() method (which now replicates the results from the original paper [REF]) but can be changed to fit your needs. It also contains the functions used to construct the 'core' constraints. Feel free to add your own.\n",
      "    2) If you want to try it locally, you need cvxpy and gurobipy (academic lisenses for gurobi can be obtained)\n",
      "    3) Most of the increase in computation time from the nominal model is due to the computation of the recourse matrix. If you do not need recourse, or your problem doesn't have/allow the adjustment of the continuous variables when uncertain outcomes occur, you can use the RC provided in Theorem TOT in [MINE]; the resulting robust cuonterpart then is exactly as expensive as the nominal model.\n",
      "    4) The reported solve times on this notebook may be different from those in the paper; they were solved on a different machine (these results are based on the performance on a laptop)."
     ]
    },
    {
     "cell_type": "markdown",
     "metadata": {},
     "source": []
    }
   ]
  }
 ],
 "cells": [],
 "metadata": {
  "name": "",
  "signature": "sha256:a0e4cf94c14c2bac8e25d1950920af38af61949a72ab869d90242f3a1a160cc6"
 },
 "nbformat": 3,
 "nbformat_minor": 0
}